{
  "nbformat": 4,
  "nbformat_minor": 0,
  "metadata": {
    "colab": {
      "provenance": []
    },
    "kernelspec": {
      "name": "python3",
      "display_name": "Python 3"
    },
    "language_info": {
      "name": "python"
    }
  },
  "cells": [
    {
      "cell_type": "code",
      "source": [
        "array_one = [\"¤\", \"U\", \"¢ð\", \"´ð\", \"ð¸\", \"Ò\", \"¥æò\", \"¸\", \"¸•\", \"¸¹\", \"¸»\", \"¸Á\", \"¸Ç\", \"¸É\", \"¸È\", \"¸Ø\", \"¸Ú\", \"¸Ù\", \"A\", \"B\", \"C\", \"D\", \"E\", \"F\", \"G\", \"H\", \"I\", \"J\", \"K\", \"L\", \"M\", \"N\", \"O\", \"P\", \"Q\", \"R\", \"T\", \"V\", \"W\", \"X\", \"Y\", \"`\", \"a\", \"b\", \"d\", \"e\", \"f\", \"g\", \"h\", \"i\", \"j\", \"k\", \"l\", \"m\", \"n\", \"p\", \"q\", \"r\", \"s\", \"t\", \"u\", \"žæ\", \"ž\", \"#\", \"%\", \"@\", \"„\", \"¦\", \"¨\", \"¯\", \"µ\", \"º\", \"Cþ\", \"q\", \"Ê\", \"u\", \"g\", \"Ÿæ\", \"Åþ\", \"Çþ\", \"Éþ\", \"^\", \"h\", \"Ð\", \"ý\", \"þ\", \"¥ô\", \"¥æð\", \"¥õ\", \"¥æñ\", \"¥æ\", \"¥\", \"§Z\", \"§ü\", \"§\", \"©\", \"ª\", \"«\", \"¬\", \"­\", \"°ð\", \"°\", \"€\", \"·\", \"\", \"¹\", \"‚\", \"»\", \"ƒæ\", \"ƒ\", \"¾\", \"“\", \"‘\", \"¿\", \"À\", \"”\", \"…\", \"’\", \"Á\", \"Ûæ\", \"Û\", \"†æ\", \"†\", \"Å\", \"Æ\", \"Ç\", \"É\", \"‡æ\", \"‡\", \"ˆ\", \"Ì\", \"‰\", \"Í\", \"Î\", \"¼\", \"Š\", \"Ï\", \"óæ\", \"ó\", \"‹æ\", \"Ù\", \"‹\", \"Œ\", \"Â\", \"\", \"È\", \"Ž\", \"Õ\", \"\", \"Ö\", \"\", \"×\", \"Ä\", \"Ø\", \"Ú\", \"Ë\", \"Ü\", \"¶\", \"Ý\", \"Ã\", \"ß\", \"àæ\", \"³æ\", \"o\", \"³\", \"à\", \"c\", \"á\", \"S\", \"â\", \"ã\", \"±\", \"ÿæ\", \"ÿ\", \"˜æ\", \"˜\", \"™æ\", \"™\", \"üð´\", \"æò\", \"æñ\", \"æ\", \"è\", \"é\", \"ê\", \"ä\", \"å\", \"ë\", \"ì\", \"í\", \"Ô\", \"ñ\", \"ô\", \"õ\", \"¢\", \"´\", \"¡\", \"Ñ\", \"¸\", \"ò\", \"ù\", \"÷\", \"ð\", \"0\", \"1\", \"2\", \"3\", \"4\", \"5\", \"6\", \"7\", \"8\", \"9\", \"®\", \"v\", \"w\", \"x\", \"y\", \"z\", \"{\", \"|\", \"}\", \"~\", \"्ो\", \"्ौ\", \"्ाे\", \"्ाा\", \"ाे\", \"ाे\", \"ाै\", \"्ा\", \"ंु\", \"ओे\", \"ोे\", \"ाे\", \"ईंं\"]\n",
        "array_two = [\"\", \"\", \"ð¢\", \"ð´\", \"¸ð\", \"'\", \"ऑ\", \"फ़्\", \"क़\", \"ख़\", \"ग़\", \"ज़\", \"ड़\", \"ढ़\", \"फ़\", \"य़\", \"ऱ\", \"ऩ\", \"्र\", \"क्च\", \"ष्ट\", \"ष्ठ\", \"श्व\", \"स्न\", \"त्र\", \"॥\", \"ढ्ढ\", \"छ्व\", \"्य\", \"रु\", \"रू\", \"हृ\", \"ह्र\", \"क्क\", \"क्त\", \"क्र\", \"ञ्ज\", \"ङ्क\", \"ङ्ख\", \"ङ्ग\", \"ङ्घ\", \"क्व\", \"ड्ड\", \"ड्ढ\", \"स्र\", \"द्ग\", \"द्घ\", \"द्द\", \"द्ध\", \"द्ब\", \"द्भ\", \"द्म\", \"द्य\", \"द्व\", \"ठ्ठ\", \"श्च\", \"ह्न\", \"ह्म्\", \"ह्य\", \"ह्ल\", \"ह्व\", \"त्त\", \"त्त्\", \"प्त\", \"त्न\", \"ञ्च\", \"ल्ल\", \"ष्ट्व\", \"ङ्क्ष\", \"ख्न\", \"द्ब्र\", \"ख्र\", \"ष्ट्र\", \"ह्न\", \"ज़्\", \"ह्व\", \"द्द\", \"श्र\", \"ट्र\", \"ड्र\", \"ढ्र\", \"ट्ट\", \"द्ध\", \"।\", \"्र\", \"्र\", \"ओ\", \"ओ\", \"औ\", \"औ\", \"आ\", \"अ\", \"ईं\", \"ई\", \"इ\", \"उ\", \"ऊ\", \"ऋ\", \"ॠ\", \"ऌ\", \"ऐ\", \"ए\", \"क्\", \"क\", \"ख्\", \"ख\", \"ग्\", \"ग\", \"घ\", \"घ्\", \"ङ\", \"च्च्\", \"च्\", \"च\", \"छ\", \"ज्ज्\", \"ज्\", \"ज्\", \"ज\", \"झ\", \"झ्\", \"ञ\", \"ञ्\", \"ट\", \"ठ\", \"ड\", \"ढ\", \"ण\", \"ण्\", \"त्\", \"त\", \"थ्\", \"थ\", \"द\", \"द\", \"ध्\", \"ध\", \"न्न\", \"न्न्\", \"न\", \"न\", \"न्\", \"प्\", \"प\", \"फ्\", \"फ\", \"ब्\", \"ब\", \"भ्\", \"भ\", \"म्\", \"म\", \"य्\", \"य\", \"र\", \"ल्\", \"ल\", \"ल\", \"ळ\", \"व्\", \"व\", \"श\", \"श\", \"श\", \"श्\", \"श्\", \"ष्\", \"ष\", \"स्\", \"स\", \"ह\", \"ह्\", \"क्ष\", \"क्ष्\", \"त्र\", \"त्र्\", \"ज्ञ\", \"ज्ञ्\", \"ðZ\", \"ॉ\", \"ौ\", \"ा\", \"ी\", \"ु\", \"ू\", \"ु\", \"ू\", \"ृ\", \"ॄ\", \"ॢ\", \"े\", \"ै\", \"ो\", \"ौ\", \"ं\", \"ं\", \"ँ\", \":\", \"़\", \"ॅ\", \"ऽ\", \"्\", \"े\", \"०\", \"१\", \"२\", \"३\", \"४\", \"५\", \"६\", \"७\", \"८\", \"९\", \"0\", \"1\", \"2\", \"3\", \"4\", \"5\", \"6\", \"7\", \"8\", \"9\", \"े\", \"ै\", \"े\", \"ा\", \"ो\", \"ो\", \"ौ\", \"\", \"ुं\", \"ओ\", \"ो\", \"ो\", \"ईं\"]"
      ],
      "metadata": {
        "id": "bi_wEal2g8dy"
      },
      "execution_count": 10,
      "outputs": []
    },
    {
      "cell_type": "code",
      "source": [
        "def chanakya_unicode_convertor(input_text):\n",
        "\n",
        "    # Check if input text is not empty\n",
        "    # Replace specific characters with their Unicode equivalents\n",
        "    input_text = input_text.replace(\"क़\", \"क़\")\n",
        "    input_text = input_text.replace(\"ख़‌\", \"ख़\")\n",
        "    input_text = input_text.replace(\"ग़\", \"ग़\")\n",
        "    input_text = input_text.replace(\"ज़\", \"ज़\")\n",
        "    input_text = input_text.replace(\"ड़\", \"ड़\")\n",
        "    input_text = input_text.replace(\"ढ़\", \"ढ़\")\n",
        "    input_text = input_text.replace(\"ऩ\", \"ऩ\")\n",
        "    input_text = input_text.replace(\"फ़\", \"फ़\")\n",
        "    input_text = input_text.replace(\"य़\", \"य़\")\n",
        "    input_text = input_text.replace(\"ऱ\", \"ऱ\")\n",
        "\n",
        "    # Perform general replacements using predefined arrays\n",
        "    for i in range(len(array_one)):\n",
        "        while array_one[i] in input_text:\n",
        "            input_text = input_text.replace(array_one[i], array_two[i])\n",
        "\n",
        "    # Replace special character 'Z' with 'üं'\n",
        "    input_text = input_text.replace(\"Z\", \"üं\")\n",
        "\n",
        "    # Handle special case of character 'ç'\n",
        "    position_of_f = input_text.find(\"ç\")\n",
        "    while position_of_f != -1:\n",
        "        character_right_to_f = input_text[position_of_f + 1]\n",
        "        input_text = input_text.replace(\"ç\" + character_right_to_f, character_right_to_f + \"ि\")\n",
        "        position_of_f += 1\n",
        "        # Handle additional replacements after 'ç'\n",
        "        while position_of_f < len(input_text) - 1 and input_text[position_of_f + 1] == \"्\":\n",
        "            string_to_be_replaced = input_text[position_of_f + 1: position_of_f + 3]\n",
        "            input_text = input_text.replace(\"ि\" + string_to_be_replaced, string_to_be_replaced + \"ि\")\n",
        "            position_of_f += 2\n",
        "        position_of_f = input_text.find(\"ç\", position_of_f + 1)\n",
        "\n",
        "    # Define set of matras for further processing\n",
        "    set_of_matras = \"ा ि ी ु ू ृ े ै ो ौ ं ः ँ ॅ\"\n",
        "\n",
        "    # Handle special case of character 'ü'\n",
        "    position_of_z = input_text.find(\"ü\")\n",
        "    while position_of_z > 0:\n",
        "        probable_position_of_half_r = position_of_z - 1\n",
        "        character_at_probable_position_of_half_r = input_text[probable_position_of_half_r]\n",
        "        # Find the character before 'ü' which is not a matra\n",
        "        while character_at_probable_position_of_half_r in set_of_matras:\n",
        "            probable_position_of_half_r -= 1\n",
        "            character_at_probable_position_of_half_r = input_text[probable_position_of_half_r]\n",
        "        # Replace characters around 'ü' with 'र्'\n",
        "        character_to_be_replaced = input_text[probable_position_of_half_r:position_of_z]\n",
        "        new_replacement_string = \"र्\" + character_to_be_replaced\n",
        "        character_to_be_replaced += \"ü\"\n",
        "        input_text = input_text.replace(character_to_be_replaced, new_replacement_string)\n",
        "        position_of_z = input_text.find(\"ü\")\n",
        "\n",
        "    # Return the modified text\n",
        "    return input_text\n"
      ],
      "metadata": {
        "id": "ht5GC15Vg493"
      },
      "execution_count": 11,
      "outputs": []
    },
    {
      "cell_type": "code",
      "source": [
        "# Example usage:\n",
        "input_string = \"ãðU ÂýÖé, ãðU ßâéÎðß-Âé ̃æ Ÿæè·ë¤c‡æ, ãðU âßüÃØæÂè Ö»ßæÙ÷, ×ñ ́ ¥æÂ·¤ô âæÎÚU Ù×S·¤æÚU ·¤ÚUÌæ ãê¡UÐ \"\n",
        "modified_string = chanakya_unicode_convertor(input_string)\n",
        "print(modified_string)"
      ],
      "metadata": {
        "colab": {
          "base_uri": "https://localhost:8080/"
        },
        "id": "n6BVim6HfMf_",
        "outputId": "44b2fa54-b76d-4e96-cd1a-04d609e0affc"
      },
      "execution_count": 5,
      "outputs": [
        {
          "output_type": "stream",
          "name": "stdout",
          "text": [
            "हे प्रभु, हे वसुदेव-पु ̃ा श्रीकृष्ण, हे सर्वव्यापी भगवान्, मै ́ आपको सादर नमस्कार करता हूँ। \n"
          ]
        }
      ]
    },
    {
      "cell_type": "code",
      "source": [
        "!pip install PyMuPDF"
      ],
      "metadata": {
        "id": "2rUqI8czTnFD",
        "colab": {
          "base_uri": "https://localhost:8080/"
        },
        "outputId": "ea65cd49-9092-416f-ce94-2eff5959d5ad"
      },
      "execution_count": 6,
      "outputs": [
        {
          "output_type": "stream",
          "name": "stdout",
          "text": [
            "Collecting PyMuPDF\n",
            "  Downloading PyMuPDF-1.24.2-cp310-none-manylinux2014_x86_64.whl (3.5 MB)\n",
            "\u001b[2K     \u001b[90m━━━━━━━━━━━━━━━━━━━━━━━━━━━━━━━━━━━━━━━━\u001b[0m \u001b[32m3.5/3.5 MB\u001b[0m \u001b[31m14.9 MB/s\u001b[0m eta \u001b[36m0:00:00\u001b[0m\n",
            "\u001b[?25hCollecting PyMuPDFb==1.24.1 (from PyMuPDF)\n",
            "  Downloading PyMuPDFb-1.24.1-py3-none-manylinux2014_x86_64.manylinux_2_17_x86_64.whl (30.8 MB)\n",
            "\u001b[2K     \u001b[90m━━━━━━━━━━━━━━━━━━━━━━━━━━━━━━━━━━━━━━━━\u001b[0m \u001b[32m30.8/30.8 MB\u001b[0m \u001b[31m35.1 MB/s\u001b[0m eta \u001b[36m0:00:00\u001b[0m\n",
            "\u001b[?25hInstalling collected packages: PyMuPDFb, PyMuPDF\n",
            "Successfully installed PyMuPDF-1.24.2 PyMuPDFb-1.24.1\n"
          ]
        }
      ]
    },
    {
      "cell_type": "code",
      "source": [
        "import fitz  # PyMuPDF\n",
        "\n",
        "file_path = 'canto1_ch1.pdf'\n",
        "\n",
        "pdf_document = fitz.open(file_path)\n",
        "\n",
        "all_data = []\n",
        "\n",
        "def convert_to_hindi(text, font_name):\n",
        "  if \"chanakya\" in font_name.lower():\n",
        "    return chanakya_unicode_convertor(text)\n",
        "  else:\n",
        "    return text\n",
        "\n",
        "def get_font_style(font_name):\n",
        "  if \"bold\" in font_name.lower():\n",
        "    return \"bold\"\n",
        "  elif \"italic\" in font_name.lower():\n",
        "    return \"italic\"\n",
        "  else:\n",
        "    return \"regular\"\n",
        "\n",
        "for page_num in range(len(pdf_document)):\n",
        "  page_data = []\n",
        "  page = pdf_document.load_page(page_num)\n",
        "  text_instances = page.get_text(\"dict\")  # Get text as a list of dictionaries\n",
        "\n",
        "  for block in text_instances[\"blocks\"]:\n",
        "    for line in block[\"lines\"]:\n",
        "      for span in line[\"spans\"]:\n",
        "        # Keep only \"size\", \"font\", and \"text\" keys\n",
        "        span_data = {\n",
        "            \"size\": int(span[\"size\"]),  # Convert \"size\" to integer\n",
        "            \"fontStyle\": get_font_style(span[\"font\"]),\n",
        "            \"color\": span[\"color\"] > 0,\n",
        "            \"text\": convert_to_hindi(span[\"text\"],span[\"font\"]),\n",
        "        }\n",
        "        page_data.append(span_data)\n",
        "\n",
        "  page_data = page_data[:-3]\n",
        "  all_data.extend(page_data)\n",
        "\n",
        "print(len(all_data))\n",
        "pdf_document.close()\n"
      ],
      "metadata": {
        "colab": {
          "base_uri": "https://localhost:8080/"
        },
        "id": "UM_K88NtTht2",
        "outputId": "3e43ff15-730f-4606-8eeb-7e9a852c2b1a"
      },
      "execution_count": 14,
      "outputs": [
        {
          "output_type": "stream",
          "name": "stdout",
          "text": [
            "2069\n"
          ]
        }
      ]
    },
    {
      "cell_type": "code",
      "source": [
        "# Initialize chunked_data\n",
        "chunked_data = []\n",
        "\n",
        "chunk = []\n",
        "\n",
        "for i, entry in enumerate(all_data):\n",
        "  font_size = entry[\"size\"]\n",
        "  if i == len(all_data) - 1:\n",
        "    chunked_data.append(chunk)\n",
        "    chunk = []\n",
        "  elif font_size != 11 and font_size != 15:\n",
        "    chunked_data.append(chunk)\n",
        "    chunk = []\n",
        "  elif font_size == 11 and (all_data[i + 1][\"size\"] != 11 or all_data[i - 1][\"size\"] != 11):\n",
        "    chunked_data.append(chunk)\n",
        "    chunk = []\n",
        "  elif font_size == 15 and (all_data[i + 1][\"size\"] != 15 or all_data[i - 1][\"size\"] != 15):\n",
        "    chunked_data.append(chunk)\n",
        "    chunk = []\n",
        "  elif \"तात्पर्य\" == entry[\"text\"]:\n",
        "    chunked_data.append(chunk)\n",
        "    chunk = []\n",
        "\n",
        "  chunk.append(entry)\n",
        "\n",
        "\n",
        "# Merge the first four chunks into one array\n",
        "merged_chunk = []\n",
        "for i in range(4):\n",
        "    merged_chunk.extend(chunked_data[i])\n",
        "\n",
        "# Update chunked_data with the merged chunk\n",
        "chunked_data = [merged_chunk] + chunked_data[4:]\n",
        "\n",
        "print(len(chunked_data))"
      ],
      "metadata": {
        "colab": {
          "base_uri": "https://localhost:8080/"
        },
        "id": "Ntf1H7vZnYFp",
        "outputId": "e5259289-7327-43d4-9377-4c121e76b001"
      },
      "execution_count": 78,
      "outputs": [
        {
          "output_type": "stream",
          "name": "stdout",
          "text": [
            "193\n"
          ]
        }
      ]
    },
    {
      "cell_type": "code",
      "source": [
        "# Initialize verses_data\n",
        "verses_data = []\n",
        "verse = []\n",
        "\n",
        "verses_data.append([chunked_data[0]])\n",
        "for chunk in chunked_data[1:]:\n",
        "  breakIntoVerse = False\n",
        "  for entry in chunk:\n",
        "    if \"तात्पर्य\" == entry[\"text\"]:\n",
        "      breakIntoVerse = True\n",
        "\n",
        "  verse.append(chunk)\n",
        "\n",
        "  if breakIntoVerse:\n",
        "    verses_data.append(verse)\n",
        "    verse = []\n",
        "\n",
        "print(len(verses_data))"
      ],
      "metadata": {
        "colab": {
          "base_uri": "https://localhost:8080/"
        },
        "id": "euClCkNnunUx",
        "outputId": "0bccb57f-e797-43cb-8dd3-4a2debe91df3"
      },
      "execution_count": 90,
      "outputs": [
        {
          "output_type": "stream",
          "name": "stdout",
          "text": [
            "24\n"
          ]
        }
      ]
    },
    {
      "cell_type": "code",
      "source": [
        "# Create HTML content\n",
        "html_content = \"<!DOCTYPE html>\\n<html>\\n<head>\\n\"\n",
        "html_content += '<link rel=\"stylesheet\" type=\"text/css\" href=\"styles.css\">\\n'\n",
        "html_content += \"</head>\\n<body>\\n<p>\"\n",
        "\n",
        "for verse in verses_data:\n",
        "  html_content += \"<hr>\"\n",
        "  for chunk in verse:\n",
        "    for entry in chunk:\n",
        "        font_size = entry[\"size\"]\n",
        "        text = entry[\"text\"]\n",
        "        is_colored = entry.get(\"color\", 0)  # Default to 0 if \"color\" key doesn't exist\n",
        "        color = f'rgb(0, 0, {255 if is_colored else 0})'\n",
        "        font_name = entry[\"fontStyle\"]\n",
        "\n",
        "        if \"bold\" in font_name.lower():\n",
        "            html_content += f'<span style=\"font-weight: bold; font-size: {font_size}px; color: {color};\">{text}</span>'\n",
        "        elif \"italic\" in font_name.lower():\n",
        "            html_content += f'<span style=\"font-style: italic; font-size: {font_size}px; color: {color};\">{text}</span>'\n",
        "        else:\n",
        "            html_content += f'<span style=\"font-size: {font_size}px; color: {color};\">{text}</span>'\n",
        "    html_content += \"<br>\"\n",
        "\n",
        "html_content += \"</p>\\n</body>\\n</html>\"\n",
        "\n",
        "# Write HTML content to file\n",
        "with open(\"output.html\", \"w\") as html_file:\n",
        "    html_file.write(html_content)\n",
        "\n",
        "print(\"HTML generated successfully!\")\n"
      ],
      "metadata": {
        "id": "BX8Pcsmuwo3V",
        "colab": {
          "base_uri": "https://localhost:8080/"
        },
        "outputId": "6a584cfa-e474-4c33-ce46-97533c139626"
      },
      "execution_count": 92,
      "outputs": [
        {
          "output_type": "stream",
          "name": "stdout",
          "text": [
            "HTML generated successfully!\n"
          ]
        }
      ]
    },
    {
      "cell_type": "code",
      "source": [],
      "metadata": {
        "id": "J5oDmH0cl6aa"
      },
      "execution_count": null,
      "outputs": []
    }
  ]
}