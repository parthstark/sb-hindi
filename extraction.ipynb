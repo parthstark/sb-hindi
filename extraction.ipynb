{
  "nbformat": 4,
  "nbformat_minor": 0,
  "metadata": {
    "colab": {
      "provenance": []
    },
    "kernelspec": {
      "name": "python3",
      "display_name": "Python 3"
    },
    "language_info": {
      "name": "python"
    }
  },
  "cells": [
    {
      "cell_type": "code",
      "source": [
        "!pip install PyMuPDF"
      ],
      "metadata": {
        "id": "2rUqI8czTnFD"
      },
      "execution_count": null,
      "outputs": []
    },
    {
      "cell_type": "code",
      "source": [
        "import fitz  # PyMuPDF\n",
        "\n",
        "file_path = 'canto1_ch1.pdf'\n",
        "\n",
        "pdf_document = fitz.open(file_path)\n",
        "\n",
        "all_data = []\n",
        "\n",
        "for page_num in range(len(pdf_document)):\n",
        "  page_data = []\n",
        "  page = pdf_document.load_page(page_num)\n",
        "  text_instances = page.get_text(\"dict\")  # Get text as a list of dictionaries\n",
        "\n",
        "  for something in text_instances[\"blocks\"]:\n",
        "    for some in something[\"lines\"]:\n",
        "      for span in some[\"spans\"]:\n",
        "        span[\"size\"] = int(span[\"size\"])\n",
        "        page_data.append(span)\n",
        "\n",
        "  page_data = page_data[:-3]\n",
        "  all_data.extend(page_data)\n",
        "\n",
        "print(len(all_data))\n",
        "pdf_document.close()\n"
      ],
      "metadata": {
        "colab": {
          "base_uri": "https://localhost:8080/"
        },
        "id": "UM_K88NtTht2",
        "outputId": "20adae6a-5cca-4a8f-90c1-f668a70abd5f"
      },
      "execution_count": 84,
      "outputs": [
        {
          "output_type": "stream",
          "name": "stdout",
          "text": [
            "2069\n"
          ]
        }
      ]
    },
    {
      "cell_type": "code",
      "source": [
        "unique_fonts = set()\n",
        "\n",
        "# Extract unique font names from dictionaries in all_data\n",
        "for entry in all_data:\n",
        "  font_name = entry[\"font\"]\n",
        "  unique_fonts.add(font_name)\n",
        "\n",
        "print(unique_fonts)"
      ],
      "metadata": {
        "colab": {
          "base_uri": "https://localhost:8080/"
        },
        "id": "3PdrRl-jb0dS",
        "outputId": "07117297-e965-40a6-aa5a-afd2d17d316b"
      },
      "execution_count": 85,
      "outputs": [
        {
          "output_type": "stream",
          "name": "stdout",
          "text": [
            "{'ChanakyaItalic', 'ChanakyaBold', 'TimesNewRomanPS-BoldMT', 'Chanakya', 'Arial-BoldItalicMT'}\n"
          ]
        }
      ]
    },
    {
      "cell_type": "code",
      "source": [
        "# Create HTML content\n",
        "html_content = \"<!DOCTYPE html>\\n<html>\\n<head>\\n\"\n",
        "html_content += '<link rel=\"stylesheet\" type=\"text/css\" href=\"styles.css\">\\n'\n",
        "html_content += '<style>@font-face {font-family: \"Chanakya\";src: url(\"chanakya.ttf\");}</style>'\n",
        "html_content += \"</head>\\n<body>\\n\"\n",
        "\n",
        "# Add text with custom font to HTML content\n",
        "for entry in all_data:\n",
        "    font_size = entry[\"size\"]\n",
        "    text = entry[\"text\"]\n",
        "    color_value = entry.get(\"color\", 0)  # Default to 0 if \"color\" key doesn't exist\n",
        "    color = f'rgb(0, 0, {color_value})'\n",
        "    html_content += f'<p style=\"font-family: Chanakya; font-size: {font_size}px; color: {color};\">{text}</p>\\n'\n",
        "\n",
        "html_content += \"</body>\\n</html>\"\n",
        "\n",
        "# Write HTML content to file\n",
        "with open(\"output.html\", \"w\") as html_file:\n",
        "    html_file.write(html_content)"
      ],
      "metadata": {
        "id": "BX8Pcsmuwo3V"
      },
      "execution_count": 89,
      "outputs": []
    },
    {
      "cell_type": "code",
      "source": [],
      "metadata": {
        "id": "_Xkc6EDZdbDK"
      },
      "execution_count": null,
      "outputs": []
    }
  ]
}