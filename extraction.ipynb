{
  "nbformat": 4,
  "nbformat_minor": 0,
  "metadata": {
    "colab": {
      "provenance": []
    },
    "kernelspec": {
      "name": "python3",
      "display_name": "Python 3"
    },
    "language_info": {
      "name": "python"
    }
  },
  "cells": [
    {
      "cell_type": "code",
      "source": [
        "!pip install PyMuPDF"
      ],
      "metadata": {
        "id": "2rUqI8czTnFD",
        "colab": {
          "base_uri": "https://localhost:8080/"
        },
        "outputId": "b0821340-2c98-4a94-e77d-4453fbf82b23"
      },
      "execution_count": 2,
      "outputs": [
        {
          "output_type": "stream",
          "name": "stdout",
          "text": [
            "Collecting PyMuPDF\n",
            "  Downloading PyMuPDF-1.24.2-cp310-none-manylinux2014_x86_64.whl (3.5 MB)\n",
            "\u001b[2K     \u001b[90m━━━━━━━━━━━━━━━━━━━━━━━━━━━━━━━━━━━━━━━━\u001b[0m \u001b[32m3.5/3.5 MB\u001b[0m \u001b[31m30.9 MB/s\u001b[0m eta \u001b[36m0:00:00\u001b[0m\n",
            "\u001b[?25hCollecting PyMuPDFb==1.24.1 (from PyMuPDF)\n",
            "  Downloading PyMuPDFb-1.24.1-py3-none-manylinux2014_x86_64.manylinux_2_17_x86_64.whl (30.8 MB)\n",
            "\u001b[2K     \u001b[90m━━━━━━━━━━━━━━━━━━━━━━━━━━━━━━━━━━━━━━━━\u001b[0m \u001b[32m30.8/30.8 MB\u001b[0m \u001b[31m47.0 MB/s\u001b[0m eta \u001b[36m0:00:00\u001b[0m\n",
            "\u001b[?25hInstalling collected packages: PyMuPDFb, PyMuPDF\n",
            "Successfully installed PyMuPDF-1.24.2 PyMuPDFb-1.24.1\n"
          ]
        }
      ]
    },
    {
      "cell_type": "code",
      "source": [
        "import fitz  # PyMuPDF\n",
        "\n",
        "file_path = 'canto1_ch1.pdf'\n",
        "\n",
        "pdf_document = fitz.open(file_path)\n",
        "\n",
        "all_data = []\n",
        "\n",
        "for page_num in range(len(pdf_document)):\n",
        "  page_data = []\n",
        "  page = pdf_document.load_page(page_num)\n",
        "  text_instances = page.get_text(\"dict\")  # Get text as a list of dictionaries\n",
        "\n",
        "  for block in text_instances[\"blocks\"]:\n",
        "    for line in block[\"lines\"]:\n",
        "      for span in line[\"spans\"]:\n",
        "        # Keep only \"size\", \"font\", and \"text\" keys\n",
        "        span_data = {\n",
        "            \"size\": int(span[\"size\"]),  # Convert \"size\" to integer\n",
        "            \"font\": span[\"font\"],\n",
        "            \"color\": span[\"color\"] > 0,\n",
        "            \"text\": span[\"text\"],\n",
        "        }\n",
        "        page_data.append(span_data)\n",
        "\n",
        "  page_data = page_data[:-3]\n",
        "  all_data.extend(page_data)\n",
        "\n",
        "print(len(all_data))\n",
        "pdf_document.close()\n"
      ],
      "metadata": {
        "colab": {
          "base_uri": "https://localhost:8080/"
        },
        "id": "UM_K88NtTht2",
        "outputId": "7ebefdca-9d33-4058-a33e-bf1fd1b46c20"
      },
      "execution_count": 20,
      "outputs": [
        {
          "output_type": "stream",
          "name": "stdout",
          "text": [
            "2069\n"
          ]
        }
      ]
    },
    {
      "cell_type": "code",
      "source": [
        "unique_fonts = set()\n",
        "\n",
        "# Extract unique font names from dictionaries in all_data\n",
        "for entry in all_data:\n",
        "  font_name = entry[\"font\"]\n",
        "  unique_fonts.add(font_name)\n",
        "\n",
        "print(unique_fonts)"
      ],
      "metadata": {
        "colab": {
          "base_uri": "https://localhost:8080/"
        },
        "id": "3PdrRl-jb0dS",
        "outputId": "07117297-e965-40a6-aa5a-afd2d17d316b"
      },
      "execution_count": null,
      "outputs": [
        {
          "output_type": "stream",
          "name": "stdout",
          "text": [
            "{'ChanakyaItalic', 'ChanakyaBold', 'TimesNewRomanPS-BoldMT', 'Chanakya', 'Arial-BoldItalicMT'}\n"
          ]
        }
      ]
    },
    {
      "cell_type": "code",
      "source": [
        "# Create HTML content\n",
        "html_content = \"<!DOCTYPE html>\\n<html>\\n<head>\\n\"\n",
        "html_content += '<link rel=\"stylesheet\" type=\"text/css\" href=\"styles.css\">\\n'\n",
        "html_content += '<style>@font-face {font-family: \"Chanakya\";src: url(\"chanakya.ttf\");}</style>'\n",
        "html_content += \"</head>\\n<body>\\n<p style=\\\"font-family: Chanakya;\\\">\"\n",
        "\n",
        "# Add text with custom font to HTML content\n",
        "prev_font_size = None\n",
        "for i, entry in enumerate(all_data):\n",
        "    font_size = entry[\"size\"]\n",
        "    text = entry[\"text\"]\n",
        "    is_colored = entry.get(\"color\", 0)  # Default to 0 if \"color\" key doesn't exist\n",
        "    color = f'rgb(0, 0, {255 if is_colored else 0})'\n",
        "    font_name = entry[\"font\"]\n",
        "    is_bold = \"bold\" in font_name.lower()\n",
        "    is_italic = \"italic\" in font_name.lower()\n",
        "\n",
        "    if (i == len(all_data) - 1) or (i == 0):\n",
        "        html_content += \"<br>\"\n",
        "\n",
        "    # Add <br> tag before each span when the font size is anything other than 11 and 15\n",
        "    elif font_size != 11 and font_size != 15:\n",
        "        html_content += \"<br>\"\n",
        "\n",
        "    # Add <br> tag if font size is 11 or 15 and previous and next entries also have the same font size\n",
        "    elif font_size == 11 and (all_data[i + 1][\"size\"] != 11 or all_data[i - 1][\"size\"] != 11):\n",
        "        html_content += \"<br>\"\n",
        "    elif font_size == 15 and (all_data[i + 1][\"size\"] != 15 or all_data[i - 1][\"size\"] != 15):\n",
        "        html_content += \"<br>\"\n",
        "\n",
        "    # Add text with appropriate styling\n",
        "    if is_bold:\n",
        "        html_content += f'<span style=\"font-weight: bold; font-size: {font_size}px; color: {color};\">{text}</span>'\n",
        "    elif is_italic:\n",
        "        html_content += f'<span style=\"font-style: italic; font-size: {font_size}px; color: {color};\">{text}</span>'\n",
        "    else:\n",
        "        html_content += f'<span style=\"font-size: {font_size}px; color: {color};\">{text}</span>'\n",
        "\n",
        "    prev_font_size = font_size\n",
        "\n",
        "html_content += \"</p>\\n</body>\\n</html>\"\n",
        "\n",
        "# Write HTML content to file\n",
        "with open(\"output.html\", \"w\") as html_file:\n",
        "    html_file.write(html_content)\n",
        "\n",
        "print(\"HTML generated successfully!\")\n"
      ],
      "metadata": {
        "id": "BX8Pcsmuwo3V",
        "colab": {
          "base_uri": "https://localhost:8080/"
        },
        "outputId": "9722e829-52bc-4d4b-f694-17bda80c9468"
      },
      "execution_count": 44,
      "outputs": [
        {
          "output_type": "stream",
          "name": "stdout",
          "text": [
            "HTML generated successfully!\n"
          ]
        }
      ]
    },
    {
      "cell_type": "code",
      "source": [],
      "metadata": {
        "id": "_Xkc6EDZdbDK"
      },
      "execution_count": null,
      "outputs": []
    }
  ]
}