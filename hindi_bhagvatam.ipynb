{
  "cells": [
    {
      "cell_type": "code",
      "execution_count": null,
      "metadata": {
        "id": "bi_wEal2g8dy"
      },
      "outputs": [],
      "source": [
        "array_one = [\"¤\", \"U\", \"¢ð\", \"´ð\", \"ð¸\", \"Ò\", \"¥æò\", \"¸\", \"¸•\", \"¸¹\", \"¸»\", \"¸Á\", \"¸Ç\", \"¸É\", \"¸È\", \"¸Ø\", \"¸Ú\", \"¸Ù\", \"A\", \"B\", \"C\", \"D\", \"E\", \"F\", \"G\", \"H\", \"I\", \"J\", \"K\", \"L\", \"M\", \"N\", \"O\", \"P\", \"Q\", \"R\", \"T\", \"V\", \"W\", \"X\", \"Y\", \"`\", \"a\", \"b\", \"d\", \"e\", \"f\", \"g\", \"h\", \"i\", \"j\", \"k\", \"l\", \"m\", \"n\", \"p\", \"q\", \"r\", \"s\", \"t\", \"u\", \"žæ\", \"ž\", \"#\", \"%\", \"@\", \"„\", \"¦\", \"¨\", \"¯\", \"µ\", \"º\", \"Cþ\", \"q\", \"Ê\", \"u\", \"g\", \"Ÿæ\", \"Åþ\", \"Çþ\", \"Éþ\", \"^\", \"h\", \"Ð\", \"ý\", \"þ\", \"¥ô\", \"¥æð\", \"¥õ\", \"¥æñ\", \"¥æ\", \"¥\", \"§Z\", \"§ü\", \"§\", \"©\", \"ª\", \"«\", \"¬\", \"­\", \"°ð\", \"°\", \"€\", \"·\", \"\", \"¹\", \"‚\", \"»\", \"ƒæ\", \"ƒ\", \"¾\", \"“\", \"‘\", \"¿\", \"À\", \"”\", \"…\", \"’\", \"Á\", \"Ûæ\", \"Û\", \"†æ\", \"†\", \"Å\", \"Æ\", \"Ç\", \"É\", \"‡æ\", \"‡\", \"ˆ\", \"Ì\", \"‰\", \"Í\", \"Î\", \"¼\", \"Š\", \"Ï\", \"óæ\", \"ó\", \"‹æ\", \"Ù\", \"‹\", \"Œ\", \"Â\", \"\", \"È\", \"Ž\", \"Õ\", \"\", \"Ö\", \"\", \"×\", \"Ä\", \"Ø\", \"Ú\", \"Ë\", \"Ü\", \"¶\", \"Ý\", \"Ã\", \"ß\", \"àæ\", \"³æ\", \"o\", \"³\", \"à\", \"c\", \"á\", \"S\", \"â\", \"ã\", \"±\", \"ÿæ\", \"ÿ\", \"˜æ\", \"˜\", \"™æ\", \"™\", \"üð´\", \"æò\", \"æñ\", \"æ\", \"è\", \"é\", \"ê\", \"ä\", \"å\", \"ë\", \"ì\", \"í\", \"Ô\", \"ñ\", \"ô\", \"õ\", \"¢\", \"´\", \"¡\", \"Ñ\", \"¸\", \"ò\", \"ù\", \"÷\", \"ð\", \"0\", \"1\", \"2\", \"3\", \"4\", \"5\", \"6\", \"7\", \"8\", \"9\", \"®\", \"v\", \"w\", \"x\", \"y\", \"z\", \"{\", \"|\", \"}\", \"~\", \"्ो\", \"्ौ\", \"्ाे\", \"्ाा\", \"ाे\", \"ाे\", \"ाै\", \"्ा\", \"ंु\", \"ओे\", \"ोे\", \"ाे\", \"ईंं\"]\n",
        "array_two = [\"\", \"\", \"ð¢\", \"ð´\", \"¸ð\", \"'\", \"ऑ\", \"फ़्\", \"क़\", \"ख़\", \"ग़\", \"ज़\", \"ड़\", \"ढ़\", \"फ़\", \"य़\", \"ऱ\", \"ऩ\", \"्र\", \"क्च\", \"ष्ट\", \"ष्ठ\", \"श्व\", \"स्न\", \"त्र\", \"॥\", \"ढ्ढ\", \"छ्व\", \"्य\", \"रु\", \"रू\", \"हृ\", \"ह्र\", \"क्क\", \"क्त\", \"क्र\", \"ञ्ज\", \"ङ्क\", \"ङ्ख\", \"ङ्ग\", \"ङ्घ\", \"क्व\", \"ड्ड\", \"ड्ढ\", \"स्र\", \"द्ग\", \"द्घ\", \"द्द\", \"द्ध\", \"द्ब\", \"द्भ\", \"द्म\", \"द्य\", \"द्व\", \"ठ्ठ\", \"श्च\", \"ह्न\", \"ह्म्\", \"ह्य\", \"ह्ल\", \"ह्व\", \"त्त\", \"त्त्\", \"प्त\", \"त्न\", \"ञ्च\", \"ल्ल\", \"ष्ट्व\", \"ङ्क्ष\", \"ख्न\", \"द्ब्र\", \"ख्र\", \"ष्ट्र\", \"ह्न\", \"ज़्\", \"ह्व\", \"द्द\", \"श्र\", \"ट्र\", \"ड्र\", \"ढ्र\", \"ट्ट\", \"द्ध\", \"।\", \"्र\", \"्र\", \"ओ\", \"ओ\", \"औ\", \"औ\", \"आ\", \"अ\", \"ईं\", \"ई\", \"इ\", \"उ\", \"ऊ\", \"ऋ\", \"ॠ\", \"ऌ\", \"ऐ\", \"ए\", \"क्\", \"क\", \"ख्\", \"ख\", \"ग्\", \"ग\", \"घ\", \"घ्\", \"ङ\", \"च्च्\", \"च्\", \"च\", \"छ\", \"ज्ज्\", \"ज्\", \"ज्\", \"ज\", \"झ\", \"झ्\", \"ञ\", \"ञ्\", \"ट\", \"ठ\", \"ड\", \"ढ\", \"ण\", \"ण्\", \"त्\", \"त\", \"थ्\", \"थ\", \"द\", \"द\", \"ध्\", \"ध\", \"न्न\", \"न्न्\", \"न\", \"न\", \"न्\", \"प्\", \"प\", \"फ्\", \"फ\", \"ब्\", \"ब\", \"भ्\", \"भ\", \"म्\", \"म\", \"य्\", \"य\", \"र\", \"ल्\", \"ल\", \"ल\", \"ळ\", \"व्\", \"व\", \"श\", \"श\", \"श\", \"श्\", \"श्\", \"ष्\", \"ष\", \"स्\", \"स\", \"ह\", \"ह्\", \"क्ष\", \"क्ष्\", \"त्र\", \"त्र्\", \"ज्ञ\", \"ज्ञ्\", \"ðZ\", \"ॉ\", \"ौ\", \"ा\", \"ी\", \"ु\", \"ू\", \"ु\", \"ू\", \"ृ\", \"ॄ\", \"ॢ\", \"े\", \"ै\", \"ो\", \"ौ\", \"ं\", \"ं\", \"ँ\", \":\", \"़\", \"ॅ\", \"ऽ\", \"्\", \"े\", \"०\", \"१\", \"२\", \"३\", \"४\", \"५\", \"६\", \"७\", \"८\", \"९\", \"0\", \"1\", \"2\", \"3\", \"4\", \"5\", \"6\", \"7\", \"8\", \"9\", \"े\", \"ै\", \"े\", \"ा\", \"ो\", \"ो\", \"ौ\", \"\", \"ुं\", \"ओ\", \"ो\", \"ो\", \"ईं\"]"
      ]
    },
    {
      "cell_type": "code",
      "execution_count": null,
      "metadata": {
        "id": "ht5GC15Vg493"
      },
      "outputs": [],
      "source": [
        "def chanakya_unicode_convertor(input_text):\n",
        "    # Replace specific characters with their Unicode equivalents\n",
        "    input_text = input_text.replace(\"क़\", \"क़\")\n",
        "    input_text = input_text.replace(\"ख़‌\", \"ख़\")\n",
        "    input_text = input_text.replace(\"ग़\", \"ग़\")\n",
        "    input_text = input_text.replace(\"ज़\", \"ज़\")\n",
        "    input_text = input_text.replace(\"ड़\", \"ड़\")\n",
        "    input_text = input_text.replace(\"ढ़\", \"ढ़\")\n",
        "    input_text = input_text.replace(\"ऩ\", \"ऩ\")\n",
        "    input_text = input_text.replace(\"फ़\", \"फ़\")\n",
        "    input_text = input_text.replace(\"य़\", \"य़\")\n",
        "    input_text = input_text.replace(\"ऱ\", \"ऱ\")\n",
        "\n",
        "    # Perform general replacements using predefined arrays\n",
        "    for i in range(len(array_one)):\n",
        "        while array_one[i] in input_text:\n",
        "            input_text = input_text.replace(array_one[i], array_two[i])\n",
        "\n",
        "    # Replace special character 'Z' with 'üं'\n",
        "    input_text = input_text.replace(\"Z\", \"üं\")\n",
        "\n",
        "    # Handle special case of character 'ç'\n",
        "    position_of_f = input_text.find(\"ç\")\n",
        "    while position_of_f != -1:\n",
        "        if position_of_f + 1 < len(input_text):  # Check if there is a character right to \"ç\"\n",
        "          character_right_to_f = input_text[position_of_f + 1]\n",
        "          input_text = input_text.replace(\"ç\" + character_right_to_f, character_right_to_f + \"ि\")\n",
        "        position_of_f += 1\n",
        "        # Handle additional replacements after 'ç'\n",
        "        while position_of_f < len(input_text) - 1 and input_text[position_of_f + 1] == \"्\":\n",
        "            string_to_be_replaced = input_text[position_of_f + 1: position_of_f + 3]\n",
        "            input_text = input_text.replace(\"ि\" + string_to_be_replaced, string_to_be_replaced + \"ि\")\n",
        "            position_of_f += 2\n",
        "        position_of_f = input_text.find(\"ç\", position_of_f + 1)\n",
        "\n",
        "    # Define set of matras for further processing\n",
        "    set_of_matras = \"ा ि ी ु ू ृ े ै ो ौ ं ः ँ ॅ\"\n",
        "\n",
        "    # Handle special case of character 'ü'\n",
        "    position_of_z = input_text.find(\"ü\")\n",
        "    while position_of_z > 0:\n",
        "        probable_position_of_half_r = position_of_z - 1\n",
        "        character_at_probable_position_of_half_r = input_text[probable_position_of_half_r]\n",
        "        # Find the character before 'ü' which is not a matra\n",
        "        while character_at_probable_position_of_half_r in set_of_matras:\n",
        "            probable_position_of_half_r -= 1\n",
        "            character_at_probable_position_of_half_r = input_text[probable_position_of_half_r]\n",
        "        # Replace characters around 'ü' with 'र्'\n",
        "        character_to_be_replaced = input_text[probable_position_of_half_r:position_of_z]\n",
        "        new_replacement_string = \"र्\" + character_to_be_replaced\n",
        "        character_to_be_replaced += \"ü\"\n",
        "        input_text = input_text.replace(character_to_be_replaced, new_replacement_string)\n",
        "        position_of_z = input_text.find(\"ü\")\n",
        "\n",
        "    # Return the modified text\n",
        "    return input_text\n"
      ]
    },
    {
      "cell_type": "code",
      "execution_count": null,
      "metadata": {
        "colab": {
          "base_uri": "https://localhost:8080/"
        },
        "id": "2rUqI8czTnFD",
        "outputId": "26b3126b-3f13-4d87-c52c-1d81e406c2e7"
      },
      "outputs": [
        {
          "name": "stdout",
          "output_type": "stream",
          "text": [
            "Collecting PyMuPDF\n",
            "  Downloading PyMuPDF-1.24.9-cp310-none-manylinux2014_x86_64.whl.metadata (3.4 kB)\n",
            "Collecting PyMuPDFb==1.24.9 (from PyMuPDF)\n",
            "  Downloading PyMuPDFb-1.24.9-py3-none-manylinux2014_x86_64.manylinux_2_17_x86_64.whl.metadata (1.4 kB)\n",
            "Downloading PyMuPDF-1.24.9-cp310-none-manylinux2014_x86_64.whl (3.5 MB)\n",
            "\u001b[2K   \u001b[90m━━━━━━━━━━━━━━━━━━━━━━━━━━━━━━━━━━━━━━━━\u001b[0m \u001b[32m3.5/3.5 MB\u001b[0m \u001b[31m23.2 MB/s\u001b[0m eta \u001b[36m0:00:00\u001b[0m\n",
            "\u001b[?25hDownloading PyMuPDFb-1.24.9-py3-none-manylinux2014_x86_64.manylinux_2_17_x86_64.whl (15.9 MB)\n",
            "\u001b[2K   \u001b[90m━━━━━━━━━━━━━━━━━━━━━━━━━━━━━━━━━━━━━━━━\u001b[0m \u001b[32m15.9/15.9 MB\u001b[0m \u001b[31m16.8 MB/s\u001b[0m eta \u001b[36m0:00:00\u001b[0m\n",
            "\u001b[?25hInstalling collected packages: PyMuPDFb, PyMuPDF\n",
            "Successfully installed PyMuPDF-1.24.9 PyMuPDFb-1.24.9\n"
          ]
        }
      ],
      "source": [
        "!pip install PyMuPDF"
      ]
    },
    {
      "cell_type": "code",
      "execution_count": 176,
      "metadata": {
        "id": "MffF7ha9BlVa"
      },
      "outputs": [],
      "source": [
        "file_name = \"sb-hindi-new\"\n",
        "\n",
        "import fitz  # PyMuPDF\n",
        "\n",
        "file_path = f'{file_name}.pdf'\n",
        "\n",
        "pdf_document = fitz.open(file_path)\n",
        "\n",
        "all_data = []\n",
        "\n",
        "def convert_to_hindi(text, font_name):\n",
        "  if \"chanakya\" in font_name.lower():\n",
        "    return chanakya_unicode_convertor(text)\n",
        "  else:\n",
        "    return text\n",
        "\n",
        "def get_font_style(font_name):\n",
        "  if \"bold\" in font_name.lower():\n",
        "    return \"bold\"\n",
        "  elif \"italic\" in font_name.lower():\n",
        "    return \"italic\"\n",
        "  else:\n",
        "    return \"regular\""
      ]
    },
    {
      "cell_type": "code",
      "execution_count": null,
      "metadata": {
        "id": "UM_K88NtTht2"
      },
      "outputs": [],
      "source": [
        "from tqdm import tqdm\n",
        "for page_num in (range(len(pdf_document))):\n",
        "  page_data = []\n",
        "  page = pdf_document.load_page(page_num)\n",
        "  text_instances = page.get_text(\"dict\")  # Get text as a list of dictionaries\n",
        "  for block in text_instances.get(\"blocks\", []):\n",
        "    for line in block.get(\"lines\", []):\n",
        "      for span in line.get(\"spans\", []):\n",
        "        if not(\"chanakya\" in span[\"font\"].lower()) and not(\"times\" in span[\"font\"].lower()):\n",
        "          continue\n",
        "        # Keep only \"size\", \"font\", and \"text\" keys\n",
        "        span_data = {\n",
        "            \"size\": int(span[\"size\"]),  # Convert \"size\" to integer\n",
        "            \"fontStyle\": get_font_style(span[\"font\"]),\n",
        "            \"text\": convert_to_hindi(span[\"text\"],span[\"font\"]),\n",
        "        }\n",
        "        span_data[\"text\"] = span_data[\"text\"].strip()\n",
        "        page_data.append(span_data)\n",
        "\n",
        "  all_data.extend(page_data)\n",
        "\n",
        "print(len(all_data))\n"
      ]
    },
    {
      "cell_type": "code",
      "execution_count": 199,
      "metadata": {
        "id": "IIdgmsHj4DOM"
      },
      "outputs": [],
      "source": [
        "pdf_document.close()\n",
        "\n",
        "import pickle\n",
        "\n",
        "with open('all_data.pkl', 'wb') as file:\n",
        "    pickle.dump(all_data, file)"
      ]
    },
    {
      "cell_type": "code",
      "source": [
        "import pickle\n",
        "\n",
        "# Open the pickle file in read-binary mode and load its contents\n",
        "with open('all_data.pkl', 'rb') as file:\n",
        "    all_data = pickle.load(file)"
      ],
      "metadata": {
        "id": "6a077DLGAZvl"
      },
      "execution_count": 51,
      "outputs": []
    },
    {
      "cell_type": "code",
      "execution_count": 107,
      "metadata": {
        "colab": {
          "base_uri": "https://localhost:8080/"
        },
        "id": "Ntf1H7vZnYFp",
        "outputId": "e2cfc3a2-9859-455c-a15a-a2c8b2087228"
      },
      "outputs": [
        {
          "output_type": "stream",
          "name": "stdout",
          "text": [
            "14908\n"
          ]
        }
      ],
      "source": [
        "# Initialize chunked_data\n",
        "verses_data = []\n",
        "\n",
        "verse = []\n",
        "i = 0\n",
        "while i < len(all_data):\n",
        "  entry = all_data[i]\n",
        "  verse.append(entry)\n",
        "\n",
        "  if \"Chapter\" in entry[\"text\"]:\n",
        "    verse.pop()\n",
        "    verses_data.append(verse)\n",
        "    verse = []\n",
        "    k = i\n",
        "    while all_data[k]['size'] == entry['size'] and all_data[k]['fontStyle'] == entry['fontStyle']:\n",
        "      verse.append(all_data[k])\n",
        "      k += 1\n",
        "\n",
        "    verse.append(all_data[k])\n",
        "    i = k + 1\n",
        "    verses_data.append(verse)\n",
        "    verse = []\n",
        "\n",
        "\n",
        "  if \"शब्दार्थ\" == entry[\"text\"]:\n",
        "    prev_entry = all_data[i-1]\n",
        "    if prev_entry['text'].startswith(';'):\n",
        "      i +=1\n",
        "      continue\n",
        "\n",
        "    k=i-1\n",
        "    if entry['size']!=prev_entry['size']:\n",
        "      while all_data[k]['size'] == all_data[k-1]['size'] and all_data[k]['text']!='':\n",
        "        k -=1\n",
        "    elif entry['fontStyle']!=prev_entry['fontStyle']:\n",
        "      while all_data[k]['fontStyle'] == all_data[k-1]['fontStyle'] and all_data[k]['text']!='':\n",
        "        k -=1\n",
        "\n",
        "    verses_data.append(verse[:k-i-1])\n",
        "    verse = verse[k-i-1:]\n",
        "\n",
        "  i += 1\n",
        "\n",
        "\n",
        "verses_data = [verse for verse in verses_data if len(verse) > 0]\n",
        "\n",
        "print(len(verses_data))"
      ]
    },
    {
      "cell_type": "code",
      "source": [
        "!rm -rf sb"
      ],
      "metadata": {
        "id": "sdQIxCDQyIfI"
      },
      "execution_count": 108,
      "outputs": []
    },
    {
      "cell_type": "code",
      "execution_count": 109,
      "metadata": {
        "colab": {
          "base_uri": "https://localhost:8080/"
        },
        "id": "J5oDmH0cl6aa",
        "outputId": "872e8208-23da-4b7e-e935-a9924c680f2a"
      },
      "outputs": [
        {
          "output_type": "stream",
          "name": "stdout",
          "text": [
            "Markdown generated successfully!\n"
          ]
        }
      ],
      "source": [
        "# Create Markdown content\n",
        "import os\n",
        "os.makedirs('sb', exist_ok=True)\n",
        "\n",
        "chapter = 0\n",
        "verse_text = 0\n",
        "\n",
        "i=0\n",
        "while i<len(verses_data):\n",
        "  verse = verses_data[i]\n",
        "  md_content = \"\"\n",
        "  for j, entry in enumerate(verse):\n",
        "    text = entry[\"text\"]\n",
        "    font_size = entry[\"size\"]\n",
        "    font_name = entry[\"fontStyle\"]\n",
        "\n",
        "    if \"Chapter\" in text:\n",
        "      chapter += 1\n",
        "      verse_text = 0\n",
        "      os.makedirs(f'sb/{chapter}', exist_ok=True)\n",
        "\n",
        "    if \"bold\" in font_name.lower():\n",
        "      md_content += f'**{text}** '\n",
        "    elif \"italic\" in font_name.lower():\n",
        "      md_content += f'*{text}* '\n",
        "    else:\n",
        "      md_content += f'{text} '\n",
        "\n",
        "    if (j+1<len(verse) and font_size != verse[j + 1][\"size\"]):\n",
        "      md_content += \"\\n\\n\"\n",
        "\n",
        "  with open(f'sb/{chapter}/{verse_text}.md', \"w\") as md_file:\n",
        "    md_file.write(md_content)\n",
        "\n",
        "  i +=1\n",
        "  verse_text += 1\n",
        "\n",
        "print(\"Markdown generated successfully!\")"
      ]
    },
    {
      "cell_type": "code",
      "execution_count": null,
      "metadata": {
        "id": "xEoTenJGmZEy"
      },
      "outputs": [],
      "source": [
        "!zip -r sb.zip sb/"
      ]
    },
    {
      "cell_type": "markdown",
      "source": [
        "-ENDS-"
      ],
      "metadata": {
        "id": "oAFPdaBhiK-j"
      }
    }
  ],
  "metadata": {
    "colab": {
      "provenance": []
    },
    "kernelspec": {
      "display_name": "Python 3",
      "name": "python3"
    },
    "language_info": {
      "name": "python"
    }
  },
  "nbformat": 4,
  "nbformat_minor": 0
}